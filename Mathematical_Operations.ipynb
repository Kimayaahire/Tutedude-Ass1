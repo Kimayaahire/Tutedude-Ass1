{
  "nbformat": 4,
  "nbformat_minor": 0,
  "metadata": {
    "colab": {
      "provenance": [],
      "authorship_tag": "ABX9TyN/qz46vfNSO30OdTNwTvkU",
      "include_colab_link": true
    },
    "kernelspec": {
      "name": "python3",
      "display_name": "Python 3"
    },
    "language_info": {
      "name": "python"
    }
  },
  "cells": [
    {
      "cell_type": "markdown",
      "metadata": {
        "id": "view-in-github",
        "colab_type": "text"
      },
      "source": [
        "<a href=\"https://colab.research.google.com/github/Kimayaahire/Tutedude-Ass1/blob/main/Mathematical_Operations.ipynb\" target=\"_parent\"><img src=\"https://colab.research.google.com/assets/colab-badge.svg\" alt=\"Open In Colab\"/></a>"
      ]
    },
    {
      "cell_type": "code",
      "execution_count": 1,
      "metadata": {
        "colab": {
          "base_uri": "https://localhost:8080/"
        },
        "id": "K-MGD7cnTb8f",
        "outputId": "357e771d-044c-4f50-bce5-12f0ca15a7ce"
      },
      "outputs": [
        {
          "output_type": "stream",
          "name": "stdout",
          "text": [
            "Enter the first number: 5\n",
            "Enter the second number: 10\n",
            "\n",
            "Addition : 15\n",
            "Subtraction : -5\n",
            "Multiplication : 50\n",
            "Division:  0.5\n"
          ]
        }
      ],
      "source": [
        "a= int(input(\"Enter the first number: \"))\n",
        "b= int(input(\"Enter the second number: \"))\n",
        "print(\"\\nAddition :\", a+b)\n",
        "print(\"Subtraction :\", a-b)\n",
        "print(\"Multiplication :\", a*b)\n",
        "print(\"Division: \", a/b)"
      ]
    }
  ]
}