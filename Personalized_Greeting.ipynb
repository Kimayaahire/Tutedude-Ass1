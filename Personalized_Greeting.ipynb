{
  "nbformat": 4,
  "nbformat_minor": 0,
  "metadata": {
    "colab": {
      "provenance": [],
      "toc_visible": true,
      "authorship_tag": "ABX9TyNxbDCT+FsPNpx6+pDYVx1N",
      "include_colab_link": true
    },
    "kernelspec": {
      "name": "python3",
      "display_name": "Python 3"
    },
    "language_info": {
      "name": "python"
    }
  },
  "cells": [
    {
      "cell_type": "markdown",
      "metadata": {
        "id": "view-in-github",
        "colab_type": "text"
      },
      "source": [
        "<a href=\"https://colab.research.google.com/github/Kimayaahire/Tutedude-Ass1/blob/main/Personalized_Greeting.ipynb\" target=\"_parent\"><img src=\"https://colab.research.google.com/assets/colab-badge.svg\" alt=\"Open In Colab\"/></a>"
      ]
    },
    {
      "cell_type": "code",
      "execution_count": 1,
      "metadata": {
        "colab": {
          "base_uri": "https://localhost:8080/"
        },
        "id": "-I_F_gZVWgDz",
        "outputId": "0e1105de-b755-42d1-ddbe-3f0aebcdb0dd"
      },
      "outputs": [
        {
          "output_type": "stream",
          "name": "stdout",
          "text": [
            "Enter your first name: john\n",
            "Enter your last name: doe\n",
            "\n",
            "Hello, john doe! Welcome to the Python program.\n"
          ]
        }
      ],
      "source": [
        "x = input(\"Enter your first name: \")\n",
        "y = input(\"Enter your last name: \")\n",
        "\n",
        "print(f\"\\nHello, {x + \" \" + y}! Welcome to the Python program.\")"
      ]
    }
  ]
}